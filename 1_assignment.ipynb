{
 "cells": [
  {
   "cell_type": "markdown",
   "metadata": {},
   "source": [
    "# Quantum Circuit Implementation and Comparison\n",
    "\n",
    "## Introduction\n",
    "\n",
    "In this project, we implement a simple quantum circuit in Python and compare its results with those obtained using Qiskit. The goal is to apply a sequence of quantum gates to a quantum state and perform probabilistic measurements to obtain measurement outcomes.\n",
    "\n",
    "## Quantum Gates and Matrices\n",
    "\n",
    "We start by defining several fundamental quantum gate matrices:\n",
    "\n",
    "- `x_matrix`: The Pauli-X gate matrix.\n",
    "- `y_matrix`: The Pauli-Y gate matrix.\n",
    "- `z_matrix`: The Pauli-Z gate matrix.\n",
    "- `h_matrix`: The Hadamard gate matrix.\n",
    "- `cnot_matrix`: The Controlled-X (CNOT) gate matrix.\n",
    "- `swap_matrix`: The Swap gate matrix.\n",
    "- `U_matrix`: A custom unitary gate matrix (Note: it should be U_matrix, not unitary_matrix).\n",
    "\n",
    "## Applying Gates to a Quantum State\n",
    "\n",
    "We define a function `gate` that applies a given gate matrix to a quantum state, either to a specific qubit or to the entire state, depending on the input. The function ensures that the original state is not modified by making a copy of it.\n",
    "\n",
    "We also define a function `apply_gate` that takes a sequence of gate symbols and qubits and applies the corresponding gates to the quantum state. The function handles various gate symbols, including X, Y, Z, H, CX (CNOT), S (Swap), and U (Custom Unitary).\n",
    "\n",
    "## Simulating Measurements\n",
    "\n",
    "To simulate quantum measurements probabilistically, we define a function `measurement` that calculates the probabilities of measurement outcomes (00, 01, 10, and 11) based on the current quantum state. It then randomly selects one of these outcomes and returns it.\n",
    "\n",
    "## Running the Quantum Circuit\n",
    "\n",
    "We prompt the user to input the number of iterations and the sequence of gates and qubits to apply. We initialize the quantum state to |0⟩ (represented as `[1, 0]`), apply the gate sequence, and perform measurements for the specified number of iterations.\n",
    "\n",
    "Measurement outcomes are counted and stored in variables `count_00`, `count_01`, `count_10`, and `count_11`. The results are displayed as a bar graph using `matplotlib`.\n",
    "\n",
    "## Comparison with Qiskit\n",
    "\n",
    "We also implement a similar quantum circuit using Qiskit for comparison purposes. The Qiskit circuit consists of X, CNOT, and H gates, followed by measurements. We run the circuit on the statevector simulator and visualize the measurement outcomes using Qiskit's `plot_histogram` function.\n",
    "\n",
    "Overall, this project demonstrates the implementation of a simple quantum circuit in Python, simulating quantum measurements, and comparing the results with a well-established quantum computing library, Qiskit.\n"
   ]
  },
  {
   "cell_type": "code",
   "execution_count": 82,
   "metadata": {},
   "outputs": [],
   "source": [
    "# Import libraries\n",
    "import numpy as np\n",
    "import matplotlib.pyplot as plt"
   ]
  },
  {
   "cell_type": "code",
   "execution_count": null,
   "metadata": {},
   "outputs": [],
   "source": [
    "# Define the Pauli matrices and other gate matrices\n",
    "x_matrix = np.array([[0.0, 1.0], [1.0, 0.0]], dtype=complex)\n",
    "y_matrix = np.array([[0.0, -1.0j], [1.0j, 0.0]], dtype=complex)\n",
    "z_matrix = np.array([[1.0, 0.0], [0.0, -1.0]], dtype=complex)\n",
    "h_matrix = (1/np.sqrt(2)) * np.array([[1.0, 1.0], [1.0, -1.0]], dtype=complex)\n",
    "cnot_matrix = np.array([[1.0, 0.0, 0.0, 0.0], [0.0, 1.0, 0.0, 0.0], [0.0, 0.0, 0.0, 1.0], [0.0, 0.0, 1.0, 0.0]], dtype=complex)\n",
    "swap_matrix = np.array([[1.0, 0.0, 0.0, 0.0], [0.0, 0.0, 1.0, 0.0], [0.0, 1.0, 0.0, 0.0], [0.0, 0.0, 0.0, 1.0]], dtype=complex)\n",
    "U_matrix = np.array([[1.0, 0.0, 0.0, 0.0], [0.0, -1.0, 0.0, 0.0], [0.0, 0.0, 1.0, 0.0], [0.0, 0.0, 0.0, -1.0]], dtype=complex)"
   ]
  },
  {
   "cell_type": "code",
   "execution_count": null,
   "metadata": {},
   "outputs": [],
   "source": [
    "# Define a function to apply a gate to the quantum state\n",
    "def gate(state, matrix, qubit, label=\"U\"):\n",
    "    update_state = state.copy()  # Make a copy to avoid modifying the original state\n",
    "    \n",
    "    if type(qubit) is np.ndarray:\n",
    "        update_state = matrix @ state.flatten()  # Apply the gate matrix to the flattened state\n",
    "        update_state = update_state.reshape(state.shape)  # Reshape the state to its original shape\n",
    "    else:\n",
    "        update_state[qubit] = matrix @ state[qubit]  # Apply the gate matrix to a specific qubit\n",
    "    \n",
    "    return update_state"
   ]
  },
  {
   "cell_type": "code",
   "execution_count": null,
   "metadata": {},
   "outputs": [],
   "source": [
    "# Define a function to apply a sequence of gates to the quantum state\n",
    "def apply_gate(input_sequence, state):\n",
    "    gate_symbols = set('XYZHCS')  # Define symbols for gate names\n",
    "    gate_qubit_pairs = input_sequence.split()  # Split input by space\n",
    "    \n",
    "    for gate_qubit_pair in gate_qubit_pairs:\n",
    "        input_gate = ''\n",
    "        input_qubits = ''\n",
    "        \n",
    "        for char in gate_qubit_pair:\n",
    "            if char in gate_symbols:\n",
    "                input_gate += char\n",
    "            elif char.isdigit():\n",
    "                input_qubits += char\n",
    "        \n",
    "        qubit = 0\n",
    "        matrix = x_matrix\n",
    "        \n",
    "        if input_gate in ('X', 'Y', 'Z', 'H'):\n",
    "            matrix = globals()[f'{input_gate.lower()}_matrix']  # Access the corresponding matrix\n",
    "            qubit = int(input_qubits)\n",
    "        elif input_gate == 'CX':\n",
    "            matrix = cnot_matrix\n",
    "            qubit = np.array([int(input_qubits[0]), int(input_qubits[1])])\n",
    "        elif input_gate == 'S':\n",
    "            matrix = swap_matrix\n",
    "            qubit = np.array([int(input_qubits[0]), int(input_qubits[1])])\n",
    "        elif input_gate == 'U':\n",
    "            matrix = unitary_matrix  # Note: This should be U_matrix, not unitary_matrix\n",
    "            qubit = np.array([int(input_qubits[0]), int(input_qubits[1])])\n",
    "\n",
    "        # Apply the gate with the specified qubits\n",
    "        state = gate(state, matrix=matrix, qubit=qubit, label=input_gate)\n",
    "\n",
    "    return state"
   ]
  },
  {
   "cell_type": "code",
   "execution_count": 79,
   "metadata": {},
   "outputs": [],
   "source": [
    "# Simulate measurements probabilistically\n",
    "def measurement(state):\n",
    "    \n",
    "    # Calculate the probabilities of measurement outcomes\n",
    "    prob_00 = np.abs(state[0, 0])**2 / 2\n",
    "    prob_01 = np.abs(state[0, 1])**2 / 2\n",
    "    prob_10 = np.abs(state[1, 0])**2 / 2\n",
    "    prob_11 = np.abs(state[1, 1])**2 / 2\n",
    "    \n",
    "    measurement_outcome = np.random.choice([\"00\", \"01\", \"10\", \"11\"], p=[prob_00, prob_01, prob_10, prob_11])\n",
    "    return measurement_outcome    "
   ]
  },
  {
   "cell_type": "code",
   "execution_count": 86,
   "metadata": {},
   "outputs": [
    {
     "name": "stdout",
     "output_type": "stream",
     "text": [
      "X0 CX01 H1\n",
      "Measurement Counts:\n",
      "[2436, 2462, 2594, 2508]\n",
      "Final State:\n",
      "[[1.+0.j 0.+0.j]\n",
      " [1.+0.j 0.+0.j]]\n"
     ]
    },
    {
     "data": {
      "image/png": "[encoded data removed]",
      "text/plain": [
       "<Figure size 640x480 with 1 Axes>"
      ]
     },
     "metadata": {},
     "output_type": "display_data"
    }
   ],
   "source": [
    "# Apply the gates for the specified number of iterations\n",
    "num_iterations = int(input('Enter the number of iterations: '))\n",
    "input_sequence = input(f'Enter the sequence of gates and qubits: ')\n",
    "\n",
    "print(input_sequence)\n",
    "\n",
    "# Initialize the quantum state to [1, 0] (state |0>)\n",
    "state = np.array([[1.0, 0.0], [1.0, 0.0]], dtype=complex)\n",
    "\n",
    "# Initialize counts for different measurement outcomes\n",
    "count_00, count_01, count_10, count_11 = 0, 0, 0, 0\n",
    "\n",
    "for iteration in range(num_iterations):\n",
    "    state = apply_gate(input_sequence, state)  # Apply the specified gate sequence to the state\n",
    "    measurement_outcome = measurement(state)\n",
    "    \n",
    "    # Update the counts based on the measurement outcome\n",
    "    if measurement_outcome == \"00\":\n",
    "        count_00 += 1\n",
    "    elif measurement_outcome == \"01\":\n",
    "        count_01 += 1\n",
    "    elif measurement_outcome == \"10\":\n",
    "        count_10 += 1\n",
    "    elif measurement_outcome == \"11\":\n",
    "        count_11 += 1\n",
    "\n",
    "counts = [count_00, count_01, count_10, count_11]\n",
    "outcomes = ['00','01','10','11']    \n",
    "print(\"Measurement Counts:\")\n",
    "print(counts)\n",
    "plt.bar(outcomes, counts)\n",
    "print(\"Final State:\")\n",
    "print(state)"
   ]
  },
  {
   "cell_type": "markdown",
   "metadata": {},
   "source": [
    "# Testing using Qiskit"
   ]
  },
  {
   "cell_type": "code",
   "execution_count": 83,
   "metadata": {},
   "outputs": [
    {
     "data": {
      "image/png": "[encoded data removed]",
      "text/plain": [
       "<Figure size 700x500 with 1 Axes>"
      ]
     },
     "execution_count": 83,
     "metadata": {},
     "output_type": "execute_result"
    }
   ],
   "source": [
    "import numpy as np\n",
    "import qiskit\n",
    "from qiskit import QuantumCircuit, transpile, execute, Aer\n",
    "from qiskit.visualization import plot_histogram\n",
    "\n",
    "# Create a quantum circuit with two qubits\n",
    "qc = QuantumCircuit(2)\n",
    "\n",
    "qc.x(0)\n",
    "qc.cx(0,1)\n",
    "qc.h(1)\n",
    "\n",
    "# Measure the qubits\n",
    "qc.measure_all()\n",
    "\n",
    "simulator = Aer.get_backend('statevector_simulator')\n",
    "compiled_circuit = transpile(qc, simulator)\n",
    "job = execute(compiled_circuit, simulator, shots=10000)\n",
    "result = job.result()\n",
    "counts = result.get_counts()\n",
    "\n",
    "# Create a histogram of measurement outcomes\n",
    "plot_histogram(counts)\n"
   ]
  }
 ],
 "metadata": {
  "kernelspec": {
   "display_name": "Python 3",
   "language": "python",
   "name": "python3"
  },
  "language_info": {
   "codemirror_mode": {
    "name": "ipython",
    "version": 3
   },
   "file_extension": ".py",
   "mimetype": "text/x-python",
   "name": "python",
   "nbconvert_exporter": "python",
   "pygments_lexer": "ipython3",
   "version": "3.8.10"
  },
  "orig_nbformat": 4
 },
 "nbformat": 4,
 "nbformat_minor": 2
}

{
 "cells": [
  {
   "cell_type": "markdown",
   "metadata": {},
   "source": [
    "# Quantum Circuit Implementation and Comparison\n",
    "\n",
    "Minette Farrell \n",
    "\n",
    "23566892\n",
    "\n",
    "## Introduction\n",
    "\n",
    "In this project, I implement a simple quantum circuit in Python and compare its results with those obtained using Qiskit. The goal is to apply a sequence of quantum gates to a quantum state and perform probabilistic measurements to obtain measurement outcomes.\n",
    "\n",
    "## Quantum Gates and Matrices\n",
    "\n",
    "I start by defining several fundamental quantum gate matrices:\n",
    "\n",
    "- `x_matrix`: The Pauli-X gate matrix.\n",
    "- `y_matrix`: The Pauli-Y gate matrix.\n",
    "- `z_matrix`: The Pauli-Z gate matrix.\n",
    "- `h_matrix`: The Hadamard gate matrix.\n",
    "- `cnot_matrix`: The Controlled-X (CNOT) gate matrix.\n",
    "- `swap_matrix`: The Swap gate matrix.\n",
    "- `U_matrix`: A custom unitary gate matrix (Note: it should be U_matrix, not unitary_matrix).\n",
    "\n",
    "## Applying Gates to a Quantum State\n",
    "\n",
    "I defined a function `gate` that applies a given gate matrix to a quantum state, either to a specific qubit or to the entire state, depending on the input. The function ensures that the original state is not modified by making a copy of it.\n",
    "\n",
    "I also defined a function `apply_gate` that takes a sequence of gate symbols and qubits and applies the corresponding gates to the quantum state. The function handles various gate symbols, including X, Y, Z, H, CX (CNOT), S (Swap), and U (Custom Unitary).\n",
    "\n",
    "## Simulating Measurements\n",
    "\n",
    "To simulate quantum measurements probabilistically, I defined a function `measurement` that calculates the probabilities of measurement outcomes (00, 01, 10, and 11) based on the current quantum state. It then randomly selects one of these outcomes and returns it.\n",
    "\n",
    "## Running the Quantum Circuit\n",
    "\n",
    "I prompt the user to input the number of iterations and the sequence of gates and qubits to apply. I initialized the quantum state to |0⟩ (represented as `[1, 0]`), apply the gate sequence, and perform measurements for the specified number of iterations.\n",
    "\n",
    "Measurement outcomes are counted and stored in variables `count_00`, `count_01`, `count_10`, and `count_11`. The results are displayed as a bar graph using `matplotlib`.\n",
    "\n",
    "## Comparison with Qiskit\n",
    "\n",
    "I also implemented a similar quantum circuit using Qiskit for comparison purposes. The Qiskit circuit consists of X, CNOT, and H gates, followed by measurements. I run the circuit on the statevector simulator and visualize the measurement outcomes using Qiskit's `plot_histogram` function.\n",
    "\n",
    "Overall, this project demonstrates the implementation of a simple quantum circuit in Python, simulating quantum measurements, and comparing the results with a well-established quantum computing library, Qiskit.\n"
   ]
  },
  {
   "cell_type": "code",
   "execution_count": 244,
   "metadata": {},
   "outputs": [],
   "source": [
    "# Import libraries\n",
    "import numpy as np\n",
    "import matplotlib.pyplot as plt"
   ]
  },
  {
   "cell_type": "code",
   "execution_count": 245,
   "metadata": {},
   "outputs": [],
   "source": [
    "# Define the Pauli matrices and other gate matrices\n",
    "x_matrix = np.array([[0.0, 1.0], [1.0, 0.0]], dtype=complex)\n",
    "y_matrix = np.array([[0.0, -1.0j], [1.0j, 0.0]], dtype=complex)\n",
    "z_matrix = np.array([[1.0, 0.0], [0.0, -1.0]], dtype=complex)\n",
    "h_matrix = (1/np.sqrt(2)) * np.array([[1.0, 1.0], [1.0, -1.0]], dtype=complex)\n",
    "cnot_matrix = np.array([[1.0, 0.0, 0.0, 0.0], [0.0, 1.0, 0.0, 0.0], [0.0, 0.0, 0.0, 1.0], [0.0, 0.0, 1.0, 0.0]], dtype=complex)\n",
    "swap_matrix = np.array([[1.0, 0.0, 0.0, 0.0], [0.0, 0.0, 1.0, 0.0], [0.0, 1.0, 0.0, 0.0], [0.0, 0.0, 0.0, 1.0]], dtype=complex)\n",
    "identity_matrix = np.array([[1.0, 0.0, 0.0, 0.0], [0.0, 1.0, 0.0, 0.0], [0.0, 0.0, 1.0, 0.0], [0.0, 0.0, 0.0, 1.0]], dtype=complex)"
   ]
  },
  {
   "cell_type": "code",
   "execution_count": 246,
   "metadata": {},
   "outputs": [],
   "source": [
    "def gate(state, matrix, qubit):\n",
    "    if(qubit=='0'):\n",
    "        state[:2, :2] = np.dot(matrix, state[:2, :2])\n",
    "    elif(qubit=='1'):\n",
    "        state[2:, :2] = np.dot(matrix, state[2:, :2])\n",
    "    elif(qubit=='01' or qubit=='10' ):\n",
    "        state = matrix @ state\n",
    "        \n",
    "    return state"
   ]
  },
  {
   "cell_type": "code",
   "execution_count": 254,
   "metadata": {},
   "outputs": [],
   "source": [
    "# Define a function to apply a sequence of gates to the quantum state\n",
    "def apply_gate(input_sequence, state, oracle):\n",
    "    gate_symbols = set('XYZHCSU')  # Define symbols for gate names\n",
    "    gate_qubit_pairs = input_sequence.split()  # Split input by space\n",
    "    \n",
    "    for gate_qubit_pair in gate_qubit_pairs:\n",
    "        input_gate = ''\n",
    "        input_qubits = ''\n",
    "        \n",
    "        for char in gate_qubit_pair:\n",
    "            if char in gate_symbols:\n",
    "                input_gate += char\n",
    "            elif char.isdigit():\n",
    "                input_qubits += char\n",
    "        \n",
    "        qubit = 0\n",
    "        matrix = x_matrix\n",
    "        \n",
    "        if input_gate in ('X', 'Y', 'Z', 'H'):\n",
    "            matrix = globals()[f'{input_gate.lower()}_matrix']  # Access the corresponding matrix\n",
    "        elif input_gate == 'CX':\n",
    "            matrix = cnot_matrix\n",
    "        elif input_gate == 'S':\n",
    "            matrix = swap_matrix\n",
    "        elif input_gate == 'I':\n",
    "            matrix = identity_matrix\n",
    "        elif input_gate == 'U':\n",
    "            if (oracle==\"balanced\"): matrix = cnot_matrix\n",
    "            elif (oracle==\"constant\"): matrix = identity_matrix\n",
    "            \n",
    "        # Apply the gate with the specified qubits\n",
    "        state = gate(state, matrix=matrix, qubit=input_qubits)\n",
    "\n",
    "    return state"
   ]
  },
  {
   "cell_type": "code",
   "execution_count": 255,
   "metadata": {},
   "outputs": [],
   "source": [
    "# Simulate measurements probabilistically\n",
    "def measurement(state):\n",
    "    # Calculate the probabilities of measurement outcomes\n",
    "    prob_00 = np.abs(state[0, 0])**2\n",
    "    prob_01 = np.abs(state[0, 1])**2\n",
    "    prob_10 = np.abs(state[1, 0])**2\n",
    "    prob_11 = np.abs(state[1, 1])**2\n",
    "    \n",
    "    probs = [prob_00, prob_01, prob_10, prob_11]\n",
    "    measurement_outcome = np.random.choice([\"00\", \"01\", \"10\", \"11\"], p=[prob_00, prob_01, prob_10, prob_11]/sum(probs))\n",
    "    return measurement_outcome    "
   ]
  },
  {
   "cell_type": "code",
   "execution_count": 256,
   "metadata": {},
   "outputs": [],
   "source": [
    "def count_measurements(num_iterations, input_sequence, state, oracle=\"balanced\"):\n",
    "    count_00, count_01, count_10, count_11 = 0, 0, 0, 0\n",
    "\n",
    "    for iteration in range(num_iterations):\n",
    "        state = apply_gate(input_sequence, state, oracle)  # Apply the specified gate sequence to the state\n",
    "        measurement_outcome = measurement(state)\n",
    "        \n",
    "        # Update the counts based on the measurement outcome\n",
    "        if measurement_outcome == \"00\":\n",
    "            count_00 += 1\n",
    "        elif measurement_outcome == \"01\":\n",
    "            count_01 += 1\n",
    "        elif measurement_outcome == \"10\":\n",
    "            count_10 += 1\n",
    "        elif measurement_outcome == \"11\":\n",
    "            count_11 += 1\n",
    "\n",
    "    counts = [count_00, count_01, count_10, count_11]\n",
    "    outcomes = ['00','01','10','11']    \n",
    "    print(\"Measurement Counts:\")\n",
    "    print(counts)\n",
    "    plt.bar(outcomes, counts)"
   ]
  },
  {
   "cell_type": "code",
   "execution_count": 257,
   "metadata": {},
   "outputs": [
    {
     "name": "stdout",
     "output_type": "stream",
     "text": [
      "CX01 H0 \n",
      "Measurement Counts:\n",
      "[749, 0, 251, 0]\n",
      "Final State:\n",
      "[[1.+0.j 0.+0.j 0.+0.j 0.+0.j]\n",
      " [1.+0.j 0.+0.j 0.+0.j 0.+0.j]\n",
      " [1.+0.j 0.+0.j 0.+0.j 0.+0.j]\n",
      " [1.+0.j 0.+0.j 0.+0.j 0.+0.j]]\n"
     ]
    },
    {
     "data": {
      "image/png": "[encoded data removed]",
      "text/plain": [
       "<Figure size 640x480 with 1 Axes>"
      ]
     },
     "metadata": {},
     "output_type": "display_data"
    }
   ],
   "source": [
    "# Apply the gates for the specified number of iterations\n",
    "num_iterations = int(input('Enter the number of iterations: '))\n",
    "input_sequence = input(f'Enter the sequence of gates and qubits: ')\n",
    "\n",
    "print(input_sequence)\n",
    "\n",
    "initial_state = np.array([[1.0, 0.0], [1.0, 0.0]], dtype=complex)\n",
    "state = np.kron(initial_state, initial_state)\n",
    "\n",
    "count_measurements(num_iterations, input_sequence, state)\n",
    "\n",
    "print(\"Final State:\")\n",
    "print(state)"
   ]
  },
  {
   "cell_type": "markdown",
   "metadata": {},
   "source": [
    "# Deutsch Algorithm\n",
    "\n",
    "The Deutsch algorithm is one of the earliest quantum algorithms that showcases the power of quantum computing in solving specific problems faster than classical computers. The problem it addresses is called the Deutsch problem, which is a variation of the more general Deutsch-Jozsa problem. The Deutsch problem can be described as follows:\n",
    "\n",
    "- You are given a quantum oracle function, which takes a single input qubit and produces a single output qubit.\n",
    "- The oracle function is either \"balanced\" or \"constant.\" In the balanced case, the function is one-to-one, meaning it maps exactly half of its inputs to 0 and the other half to 1. In the constant case, the function always returns the same output, either 0 or 1.\n",
    "- The goal is to determine whether the oracle function is \"balanced\" or \"constant\" using as few queries to the oracle as possible.\n",
    "\n",
    "## Implementation and Testing\n",
    "\n",
    "### Custom Quantum Circuit\n",
    "\n",
    "In this project, I implemented the Deutsch algorithm using a custom quantum circuit in Python. The circuit consists of the following gates and operations:\n",
    "\n",
    "- **X1**: Apply a Pauli-X gate to the second qubit (index 1) to set it to the state |1⟩.\n",
    "- **H0 and H1**: Apply Hadamard gates to both qubits (indices 0 and 1) to create superposition states.\n",
    "- **U01**: Apply a custom unitary gate U01, which represents the quantum oracle function. In this case, I used a controlled-X (CNOT) gate to simulate the oracle. This gate is chosen based on whether the oracle is \"balanced\" or \"constant.\"\n",
    "- **H0**: Apply another Hadamard gate to the first qubit (index 0).\n",
    "- Perform measurements to determine the output of the algorithm.\n",
    "\n",
    "The algorithm's outcome is probabilistic, and it will correctly identify whether the oracle is \"balanced\" or \"constant\" with a high probability.\n",
    "\n",
    "I tested the custom quantum circuit with the Deutsch algorithm by running it with 10,000 iterations and examining the measurement outcomes.\n",
    "\n",
    "### Qiskit Implementation\n",
    "\n",
    "To compare the results, I also implemented the Deutsch algorithm using Qiskit, a popular quantum computing library. The Qiskit circuit follows a similar structure:\n",
    "\n",
    "`qc.x(1)`\n",
    "\n",
    "`qc.h(0)`\n",
    "\n",
    "`qc.h(1)`\n",
    "\n",
    "`qc.unitary(custom_unitary_gate, [0], label='U01')`\n",
    "\n",
    "`qc.h(0)`\n",
    "\n",
    "\n",
    "I used Qiskit to simulate the circuit and measure the outcomes for comparison with the custom circuit's results.\n",
    "\n",
    "By running both implementations and comparing the measurement outcomes, I can verify the correctness and efficiency of my custom quantum circuit while also demonstrating the usage of Qiskit for similar quantum algorithms.\n",
    "\n"
   ]
  },
  {
   "cell_type": "code",
   "execution_count": 260,
   "metadata": {},
   "outputs": [
    {
     "name": "stdout",
     "output_type": "stream",
     "text": [
      "Measurement Counts:\n",
      "[4913, 0, 5087, 0]\n"
     ]
    },
    {
     "data": {
      "image/png": "[encoded data removed]",
      "text/plain": [
       "<Figure size 640x480 with 1 Axes>"
      ]
     },
     "metadata": {},
     "output_type": "display_data"
    }
   ],
   "source": [
    "# Initialize the quantum state to [1, 0] (state |0>)\n",
    "initial_state = np.array([[1.0, 0.0], [1.0, 0.0]], dtype=complex)\n",
    "state = np.kron(initial_state, initial_state)\n",
    "oracle = \"balanced\"\n",
    "count_measurements(10000, 'X1 H0 H1 U01 H0', state, oracle)"
   ]
  },
  {
   "cell_type": "markdown",
   "metadata": {},
   "source": [
    "# Testing using Qiskit"
   ]
  },
  {
   "cell_type": "code",
   "execution_count": 270,
   "metadata": {},
   "outputs": [
    {
     "data": {
      "image/png": "[encoded data removed]",
      "text/plain": [
       "<Figure size 700x500 with 1 Axes>"
      ]
     },
     "execution_count": 270,
     "metadata": {},
     "output_type": "execute_result"
    }
   ],
   "source": [
    "import numpy as np\n",
    "import qiskit\n",
    "from qiskit import QuantumCircuit, transpile, execute, Aer\n",
    "from qiskit.visualization import plot_histogram\n",
    "from qiskit.quantum_info import Operator\n",
    "\n",
    "# Create a quantum circuit with two qubits\n",
    "qc = QuantumCircuit(2)\n",
    "\n",
    "qc.x\n",
    "qc.cx(0,1)\n",
    "qc.h(1)\n",
    "\n",
    "# Measure the qubits\n",
    "qc.measure_all()\n",
    "\n",
    "simulator = Aer.get_backend('statevector_simulator')\n",
    "compiled_circuit = transpile(qc, simulator)\n",
    "job = execute(compiled_circuit, simulator, shots=10000)\n",
    "result = job.result()\n",
    "counts = result.get_counts()\n",
    "\n",
    "# Create a histogram of measurement outcomes\n",
    "plot_histogram(counts)\n"
   ]
  },
  {
   "cell_type": "markdown",
   "metadata": {},
   "source": [
    "## Testing Deutsch"
   ]
  },
  {
   "cell_type": "code",
   "execution_count": 271,
   "metadata": {},
   "outputs": [
    {
     "name": "stdout",
     "output_type": "stream",
     "text": [
      "{'00': 5044, '10': 4956}\n"
     ]
    },
    {
     "data": {
      "image/png": "[encoded data removed]",
      "text/plain": [
       "<Figure size 700x500 with 1 Axes>"
      ]
     },
     "execution_count": 271,
     "metadata": {},
     "output_type": "execute_result"
    }
   ],
   "source": [
    "from qiskit import QuantumCircuit, Aer, transpile, execute\n",
    "from qiskit.quantum_info import Operator\n",
    "import numpy as np\n",
    "\n",
    "# Create a quantum circuit with two qubits\n",
    "qc = QuantumCircuit(2)\n",
    "\n",
    "# Define a custom 2x2 unitary matrix\n",
    "custom_unitary_matrix = np.array([[1.0, 0.0],\n",
    "                                  [0.0, 1.0]], dtype=complex)\n",
    "\n",
    "# Add a custom unitary gate to the circuit\n",
    "custom_unitary_gate = Operator(custom_unitary_matrix)\n",
    "\n",
    "# X1 H0 H1 U01 H0\n",
    "qc.x(1)\n",
    "qc.h(0)\n",
    "qc.h(1)\n",
    "qc.unitary(custom_unitary_gate, [0], label='U01') \n",
    "qc.h(0)\n",
    "\n",
    "# Measure the qubits\n",
    "qc.measure_all()\n",
    "\n",
    "simulator = Aer.get_backend('qasm_simulator')\n",
    "compiled_circuit = transpile(qc, simulator)\n",
    "job = execute(compiled_circuit, simulator, shots=10000)\n",
    "result = job.result()\n",
    "counts = result.get_counts()\n",
    "\n",
    "print(counts)\n",
    "\n",
    "# Create a histogram of measurement outcomes\n",
    "plot_histogram(counts)"
   ]
  }
 ],
 "metadata": {
  "kernelspec": {
   "display_name": "Python 3",
   "language": "python",
   "name": "python3"
  },
  "language_info": {
   "codemirror_mode": {
    "name": "ipython",
    "version": 3
   },
   "file_extension": ".py",
   "mimetype": "text/x-python",
   "name": "python",
   "nbconvert_exporter": "python",
   "pygments_lexer": "ipython3",
   "version": "3.11.3"
  },
  "orig_nbformat": 4
 },
 "nbformat": 4,
 "nbformat_minor": 2
}
